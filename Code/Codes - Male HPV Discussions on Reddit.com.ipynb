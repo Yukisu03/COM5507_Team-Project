{
 "cells": [
  {
   "cell_type": "markdown",
   "metadata": {},
   "source": [
    "# Group project: Give Boys a Shot: Examining Online Discussion on Male’s HPV Vaccination on Reddit.com\n",
    "\n",
    "#Team members: Chu Tsz Hang(53030350); FAN Fei(55529250); SU Youzhen(55543403); WANG Sai(54939553)\n",
    "\n",
    "#Main agendas: 1.Data collection; 2.Data Clean and Preprocessing; 3.For RQ1: Frequency Counts; 4.For RQ2: Word Counts; 5.For RQ3: Sentiment Analysis; 6.For RQ4: Topic modeling"
   ]
  },
  {
   "cell_type": "code",
   "execution_count": 1,
   "metadata": {
    "collapsed": true
   },
   "outputs": [],
   "source": [
    "import praw\n",
    "import requests\n",
    "import time\n",
    "import pandas as pd\n",
    "import csv\n",
    "import datetime as dt"
   ]
  },
  {
   "cell_type": "code",
   "execution_count": null,
   "metadata": {
    "collapsed": true
   },
   "outputs": [],
   "source": [
    "# Data Collection "
   ]
  },
  {
   "cell_type": "code",
   "execution_count": null,
   "metadata": {
    "collapsed": true
   },
   "outputs": [],
   "source": [
    "# accessing reddit's API\n",
    "reddit = praw.Reddit(client_id='client_id',\n",
    "                     client_secret=\"client_scret\", \n",
    "                     user_agent='user_agent)"
   ]
  },
  {
   "cell_type": "markdown",
   "metadata": {},
   "source": [
    "# Part1: Data Collection"
   ]
  },
  {
   "cell_type": "code",
   "execution_count": null,
   "metadata": {
    "collapsed": true
   },
   "outputs": [],
   "source": [
    "# Collecting Female HPV titles by using API\n",
    "\n",
    "alls = reddit.subreddit(\"all\")\n",
    "\n",
    "topics_dict = { \"title\":[], \"score\":[], \"id\":[], \"url\":[], \"comms_num\":[], \"created\":[], \"body\":[]}\n",
    "\n",
    "for submission in alls.search(\"girl hpv vaccine\" and \"female hpv vaccine\", limit=600):\n",
    "    topics_dict[\"title\"].append(submission.title)\n",
    "    topics_dict[\"score\"].append(submission.score)\n",
    "    topics_dict[\"id\"].append(submission.id)\n",
    "    topics_dict[\"url\"].append(submission.url)\n",
    "    topics_dict[\"comms_num\"].append(submission.num_comments)\n",
    "    topics_dict[\"created\"].append(submission.created)\n",
    "    topics_dict[\"body\"].append(submission.selftext)\n",
    "\n",
    "topics_data = pd.DataFrame(topics_dict)"
   ]
  },
  {
   "cell_type": "code",
   "execution_count": null,
   "metadata": {
    "collapsed": true
   },
   "outputs": [],
   "source": [
    "def get_date(created):\n",
    "    return dt.datetime.fromtimestamp(created)\n",
    "_timestamp = topics_data[\"created\"].apply(get_date)\n",
    "topics_data = topics_data.assign(timestamp = _timestamp)\n",
    "topics_data"
   ]
  },
  {
   "cell_type": "code",
   "execution_count": null,
   "metadata": {
    "collapsed": true
   },
   "outputs": [],
   "source": [
    "len(topics_dict[\"title\"])"
   ]
  },
  {
   "cell_type": "code",
   "execution_count": null,
   "metadata": {
    "collapsed": true
   },
   "outputs": [],
   "source": [
    "topics_data.to_csv('Female_titles.csv')"
   ]
  },
  {
   "cell_type": "code",
   "execution_count": null,
   "metadata": {
    "collapsed": true
   },
   "outputs": [],
   "source": [
    "# Collecting Male HPV titles \n",
    "\n",
    "alls = reddit.subreddit(\"all\")\n",
    "\n",
    "topics_dict = { \"title\":[], \"score\":[], \"id\":[], \"url\":[], \"comms_num\":[], \"created\":[], \"body\":[]}\n",
    "\n",
    "for submission in alls.search(\"boy hpv vaccine\" and \"male hpv vaccine\", limit=600):\n",
    "    topics_dict[\"title\"].append(submission.title)\n",
    "    topics_dict[\"score\"].append(submission.score)\n",
    "    topics_dict[\"id\"].append(submission.id)\n",
    "    topics_dict[\"url\"].append(submission.url)\n",
    "    topics_dict[\"comms_num\"].append(submission.num_comments)\n",
    "    topics_dict[\"created\"].append(submission.created)\n",
    "    topics_dict[\"body\"].append(submission.selftext)\n",
    "\n",
    "topics_data = pd.DataFrame(topics_dict)"
   ]
  },
  {
   "cell_type": "code",
   "execution_count": null,
   "metadata": {
    "collapsed": true
   },
   "outputs": [],
   "source": [
    "def get_date(created):\n",
    "    return dt.datetime.fromtimestamp(created)\n",
    "_timestamp = topics_data[\"created\"].apply(get_date)\n",
    "topics_data = topics_data.assign(timestamp = _timestamp)\n",
    "topics_data"
   ]
  },
  {
   "cell_type": "code",
   "execution_count": null,
   "metadata": {
    "collapsed": true
   },
   "outputs": [],
   "source": [
    "len(topics_dict[\"title\"])"
   ]
  },
  {
   "cell_type": "code",
   "execution_count": null,
   "metadata": {
    "collapsed": true
   },
   "outputs": [],
   "source": [
    "topics_data.to_csv('Male_titles.csv')"
   ]
  },
  {
   "cell_type": "code",
   "execution_count": null,
   "metadata": {
    "collapsed": true
   },
   "outputs": [],
   "source": [
    "# Collecting all comments within Male HPV vaccine discussions "
   ]
  },
  {
   "cell_type": "code",
   "execution_count": null,
   "metadata": {
    "collapsed": true
   },
   "outputs": [],
   "source": [
    "# get all releated posts through search \n",
    "alls = reddit.subreddit(\"all\")\n",
    "\n",
    "topics_dict = { \"title\":[], \n",
    "                \"score\":[], \n",
    "                \"url\":[], \n",
    "                \"comms_num\": [], \n",
    "                \"created\": [], \n",
    "                \"body\":[]}\n",
    "\n",
    "for submission in alls.search(\"male hpv vaccine\" or \"boy hpv vaccine\", limit = 500):\n",
    "    topics_dict[\"title\"].append(submission.title)\n",
    "    topics_dict[\"score\"].append(submission.score)\n",
    "    topics_dict[\"url\"].append(submission.url)\n",
    "    topics_dict[\"comms_num\"].append(submission.num_comments)\n",
    "    topics_dict[\"created\"].append(submission.created)\n",
    "    topics_dict[\"body\"].append(submission.selftext)\n",
    "topics_data = pd.DataFrame(topics_dict)"
   ]
  },
  {
   "cell_type": "code",
   "execution_count": null,
   "metadata": {
    "collapsed": true
   },
   "outputs": [],
   "source": [
    "def get_date(created):\n",
    "    return dt.datetime.fromtimestamp(created)\n",
    "    timestamp = topics_data[\"created\"].apply(get_date)\n",
    "_timestamp = topics_data[\"created\"].apply(get_date)\n",
    "topics_data = topics_data.assign(timestamp = _timestamp)"
   ]
  },
  {
   "cell_type": "code",
   "execution_count": null,
   "metadata": {
    "collapsed": true
   },
   "outputs": [],
   "source": [
    "topics_data = pd.DataFrame(topics_dict)"
   ]
  },
  {
   "cell_type": "code",
   "execution_count": null,
   "metadata": {
    "collapsed": true
   },
   "outputs": [],
   "source": [
    "# establish the list for collecting replies \n",
    "all_replies = []\n",
    "all_posts = []\n",
    "for submission in alls.search(\"male hpv vaccine\" or \"boy hpv vaccine\", limit = 500):\n",
    "    all_posts.append (submission.id)"
   ]
  },
  {
   "cell_type": "code",
   "execution_count": null,
   "metadata": {
    "collapsed": true
   },
   "outputs": [],
   "source": [
    "all_comments = []"
   ]
  },
  {
   "cell_type": "code",
   "execution_count": null,
   "metadata": {
    "collapsed": true
   },
   "outputs": [],
   "source": [
    "for post in all_posts: \n",
    "    submission = reddit.submission (id = post)\n",
    "    \n",
    "    submission.comments.replace_more(limit=None)\n",
    "    for comment in submission.comments.list():\n",
    "        all_comments.append(comment.body)\n",
    "        print(\"\\t\"+comment.body)  "
   ]
  },
  {
   "cell_type": "code",
   "execution_count": null,
   "metadata": {
    "collapsed": true
   },
   "outputs": [],
   "source": [
    "comments_dict = {'comments':all_comments}\n",
    "comments_data = pd.DataFrame(comments_dict)\n",
    "comments_data.to_csv('reddit_allcomments')"
   ]
  },
  {
   "cell_type": "code",
   "execution_count": null,
   "metadata": {
    "collapsed": true
   },
   "outputs": [],
   "source": [
    "df = pd.read_csv('reddit_allcomments',encoding='utf-8')\n",
    "df.head(10)"
   ]
  },
  {
   "cell_type": "markdown",
   "metadata": {},
   "source": [
    "# Data Cleaning and Data Preprocessing"
   ]
  },
  {
   "cell_type": "code",
   "execution_count": null,
   "metadata": {
    "collapsed": true
   },
   "outputs": [],
   "source": [
    "import os \n",
    "import numpy as np\n",
    "import string"
   ]
  },
  {
   "cell_type": "code",
   "execution_count": null,
   "metadata": {
    "collapsed": true
   },
   "outputs": [],
   "source": [
    "# RQ 1 & RQ 2 \n",
    "# data cleaning for titles containing \"female\"\n",
    "\n",
    "title_fm = pd.read_csv(\"Female_titles.csv\",encoding='utf-8')\n",
    "\n",
    "# remove spaces\n",
    "title_fm['title'] = title_fm['title'].fillna(\"\")\n",
    "\n",
    "# lower case \n",
    "title_fm['title'] = title_fm['title'].apply(lambda x: \" \".join(x.lower() for x in str(x).split()))\n",
    "\n",
    "# remove punctuation\n",
    "title_fm['title'] = title_fm['title'].str.replace('[^\\w\\s]','')\n",
    "\n",
    "# remove stopwords \n",
    "import nltk\n",
    "from nltk.corpus import stopwords\n",
    "stop = stopwords.words('english')\n",
    "title_fm['title'] = title_fm['title'].apply(lambda x: \" \".join(x for x in x.split() if x not in stop))\n",
    "\n",
    "# Lemmatization: turn words into its root \n",
    "from textblob import Word\n",
    "title_fm['title'] = title_fm['title'].apply(lambda x: \" \".join([Word(word).lemmatize() for word in x.split()]))\n",
    "\n",
    "# remove the duplicated rows\n",
    "female_title = title_fm.drop_duplicates()\n",
    "\n",
    "female_title.head(10)"
   ]
  },
  {
   "cell_type": "code",
   "execution_count": null,
   "metadata": {
    "collapsed": true
   },
   "outputs": [],
   "source": [
    "# data cleaning for titles containing \"male\"\n",
    "\n",
    "title_m = pd.read_csv(\"Male_titles.csv\",encoding='utf-8')\n",
    "\n",
    "# remove spaces\n",
    "title_m['title'] = title_m['title'].fillna(\"\")\n",
    "\n",
    "# lower case \n",
    "title_m['title'] = title_m['title'].apply(lambda x: \" \".join(x.lower() for x in str(x).split()))\n",
    "\n",
    "# remove punctuation\n",
    "title_m['title'] = title_m['title'].str.replace('[^\\w\\s]','')\n",
    "\n",
    "# remove stopwords \n",
    "import nltk\n",
    "from nltk.corpus import stopwords\n",
    "stop = stopwords.words('english')\n",
    "title_m['title'] = title_m['title'].apply(lambda x: \" \".join(x for x in x.split() if x not in stop))\n",
    "\n",
    "\n",
    "# Lemmatization: turn words into its root \n",
    "from textblob import Word\n",
    "title_m['title'] = title_m['title'].apply(lambda x: \" \".join([Word(word).lemmatize() for word in x.split()]))\n",
    "\n",
    "# remove the duplicated rows\n",
    "male_title = title_m.drop_duplicates()\n",
    "\n",
    "male_title.head(10)"
   ]
  },
  {
   "cell_type": "markdown",
   "metadata": {},
   "source": [
    "# RQ1 - frequencies of titles "
   ]
  },
  {
   "cell_type": "code",
   "execution_count": null,
   "metadata": {
    "collapsed": true
   },
   "outputs": [],
   "source": [
    "freq_fe = pd.Series(' '.join(female_title['title']).split()).value_counts()[:10]\n",
    "freq_fe"
   ]
  },
  {
   "cell_type": "code",
   "execution_count": null,
   "metadata": {
    "collapsed": true
   },
   "outputs": [],
   "source": [
    "freq_m = pd.Series(' '.join(male_title['title']).split()).value_counts()[:10]\n",
    "freq_m"
   ]
  },
  {
   "cell_type": "code",
   "execution_count": null,
   "metadata": {
    "collapsed": true
   },
   "outputs": [],
   "source": [
    "from sklearn.feature_extraction.text import TfidfVectorizer "
   ]
  },
  {
   "cell_type": "code",
   "execution_count": null,
   "metadata": {
    "collapsed": true
   },
   "outputs": [],
   "source": [
    "tfidf = TfidfVectorizer()"
   ]
  },
  {
   "cell_type": "code",
   "execution_count": null,
   "metadata": {
    "collapsed": true
   },
   "outputs": [],
   "source": [
    "tfidf_female = tfidf.fit_transform(female_title['title']) "
   ]
  },
  {
   "cell_type": "code",
   "execution_count": null,
   "metadata": {
    "collapsed": true
   },
   "outputs": [],
   "source": [
    "feature_names_fe = tfidf.get_feature_names()\n",
    "for col in tfidf_female.nonzero()[1]:\n",
    "    print (feature_names_fe[col], ' - ', tfidf_female[0, col])"
   ]
  },
  {
   "cell_type": "code",
   "execution_count": null,
   "metadata": {
    "collapsed": true
   },
   "outputs": [],
   "source": [
    "fe_title_list = list (female_title['title'])\n",
    "fe_title_list = \"/ \".join(fe_title_list)\n",
    "fe_title_list = fe_title_list.strip()\n",
    "fe_title_list"
   ]
  },
  {
   "cell_type": "code",
   "execution_count": null,
   "metadata": {
    "collapsed": true
   },
   "outputs": [],
   "source": [
    "import matplotlib.pyplot as plt\n",
    "x = ['Title with Female', 'Title with Male']\n",
    "y = [415,428]\n",
    "plt.bar(x,y)"
   ]
  },
  {
   "cell_type": "markdown",
   "metadata": {},
   "source": [
    "# RQ2 - word counts and wordclouds"
   ]
  },
  {
   "cell_type": "code",
   "execution_count": null,
   "metadata": {
    "collapsed": true
   },
   "outputs": [],
   "source": [
    "import wordcloud\n",
    "from PIL import Image\n",
    "import numpy as np\n",
    "\n",
    "\n",
    "fe_symbol = np.array(Image.open('female222.png'))\n",
    "\n",
    "fe_wc = wordcloud.WordCloud(background_color=\"white\", max_words=500, width=1000, height=860, \n",
    "                            mask = fe_symbol, \n",
    "                            max_font_size = 1000)\n",
    "fe_wc.generate(fe_title_list) \n",
    "plt.figure(figsize=(50, 50))\n",
    "plt.imshow(fe_wc, interpolation='bilinear')\n",
    "plt.axis(\"off\")\n",
    "plt.show()"
   ]
  },
  {
   "cell_type": "code",
   "execution_count": null,
   "metadata": {
    "collapsed": true
   },
   "outputs": [],
   "source": [
    "m_title_list = list (male_title['title'])\n",
    "m_title_list = \"/ \".join(m_title_list)\n",
    "m_title_list = m_title_list.strip()\n",
    "m_title_list\n",
    "\n",
    "m_symbol = np.array(Image.open('male222.jpeg'))\n",
    "\n",
    "m_wc = wordcloud.WordCloud(background_color=\"white\", max_words=500, width=1000, height=860, \n",
    "                            mask = m_symbol, \n",
    "                            max_font_size = 1000)\n",
    "m_wc.generate(m_title_list) \n",
    "plt.figure(figsize=(50, 50))\n",
    "plt.imshow(m_wc, interpolation='bilinear')\n",
    "plt.axis(\"off\")\n",
    "plt.show()"
   ]
  },
  {
   "cell_type": "markdown",
   "metadata": {},
   "source": [
    "# RQ 3 & RQ4: Sentiment analysis and Topic Modeling"
   ]
  },
  {
   "cell_type": "code",
   "execution_count": 2,
   "metadata": {},
   "outputs": [
    {
     "name": "stderr",
     "output_type": "stream",
     "text": [
      "/anaconda3/lib/python3.7/site-packages/ipykernel_launcher.py:21: UserWarning: Boolean Series key will be reindexed to match DataFrame index.\n"
     ]
    }
   ],
   "source": [
    "# RQ 3 & RQ4\n",
    "# Cleaning Comments for sentiment analysis and topic modeling\n",
    "\n",
    "df = pd.read_csv('reddit_allcomments',encoding='utf-8')\n",
    "\n",
    "# remove spaces\n",
    "df['comments'] = df['comments'].fillna(\"\")\n",
    "\n",
    "# lower case \n",
    "df['comments'] = df['comments'].apply(lambda x: \" \".join(x.lower() for x in str(x).split()))\n",
    "\n",
    "# remove punctuation\n",
    "df['comments'] = df['comments'].str.replace('[^\\w\\s]','')\n",
    "\n",
    "# remove non-English characters\n",
    "def remove_non_ascii(text):\n",
    "    return ''.join(i for i in text if ord(i)<128)\n",
    "df['comments'] = df['comments'].apply(remove_non_ascii)\n",
    "\n",
    "# remove the rows containing \"deleted\" \n",
    "new_df = df[~df.comments.str.contains(\"deleted\")]\n",
    "# remove the rows containing \"removed\" \n",
    "new_df = new_df[~df.comments.str.contains(\"removed\")]\n",
    "\n",
    "# remove the duplicated rows\n",
    "new_df = new_df.drop_duplicates()"
   ]
  },
  {
   "cell_type": "code",
   "execution_count": 3,
   "metadata": {
    "collapsed": true
   },
   "outputs": [],
   "source": [
    "#finding and dropping comments with less than 3 words  \n",
    "count = new_df['comments'].str.split().str.len()\n",
    "\n",
    "dropped = new_df[~(count>3)].copy()"
   ]
  },
  {
   "cell_type": "code",
   "execution_count": 5,
   "metadata": {
    "collapsed": true
   },
   "outputs": [],
   "source": [
    "new_df2=new_df[~(count<4)].copy()"
   ]
  },
  {
   "cell_type": "code",
   "execution_count": 6,
   "metadata": {},
   "outputs": [
    {
     "data": {
      "text/html": [
       "<div>\n",
       "<style scoped>\n",
       "    .dataframe tbody tr th:only-of-type {\n",
       "        vertical-align: middle;\n",
       "    }\n",
       "\n",
       "    .dataframe tbody tr th {\n",
       "        vertical-align: top;\n",
       "    }\n",
       "\n",
       "    .dataframe thead th {\n",
       "        text-align: right;\n",
       "    }\n",
       "</style>\n",
       "<table border=\"1\" class=\"dataframe\">\n",
       "  <thead>\n",
       "    <tr style=\"text-align: right;\">\n",
       "      <th></th>\n",
       "      <th>Unnamed: 0</th>\n",
       "      <th>comments</th>\n",
       "    </tr>\n",
       "  </thead>\n",
       "  <tbody>\n",
       "    <tr>\n",
       "      <th>0</th>\n",
       "      <td>0</td>\n",
       "      <td>we should all think about how fucked up this i...</td>\n",
       "    </tr>\n",
       "    <tr>\n",
       "      <th>1</th>\n",
       "      <td>1</td>\n",
       "      <td>mystery disease after gardisil vaccine given t...</td>\n",
       "    </tr>\n",
       "    <tr>\n",
       "      <th>2</th>\n",
       "      <td>2</td>\n",
       "      <td>its in uk why am i not surprised men need to r...</td>\n",
       "    </tr>\n",
       "    <tr>\n",
       "      <th>3</th>\n",
       "      <td>3</td>\n",
       "      <td>socialized medicine ftl how do you think males...</td>\n",
       "    </tr>\n",
       "    <tr>\n",
       "      <th>4</th>\n",
       "      <td>4</td>\n",
       "      <td>here is a cached version of the daily mail con...</td>\n",
       "    </tr>\n",
       "    <tr>\n",
       "      <th>5</th>\n",
       "      <td>5</td>\n",
       "      <td>cmon guys get real the first paragraph of this...</td>\n",
       "    </tr>\n",
       "    <tr>\n",
       "      <th>6</th>\n",
       "      <td>6</td>\n",
       "      <td>did someone in that article really fucking say...</td>\n",
       "    </tr>\n",
       "    <tr>\n",
       "      <th>7</th>\n",
       "      <td>7</td>\n",
       "      <td>thats cool ill stop fucking then no diseases f...</td>\n",
       "    </tr>\n",
       "    <tr>\n",
       "      <th>8</th>\n",
       "      <td>8</td>\n",
       "      <td>the same brits that killed off alfie</td>\n",
       "    </tr>\n",
       "    <tr>\n",
       "      <th>9</th>\n",
       "      <td>9</td>\n",
       "      <td>i think a lot of the time things like this are...</td>\n",
       "    </tr>\n",
       "    <tr>\n",
       "      <th>10</th>\n",
       "      <td>10</td>\n",
       "      <td>i got a letter from my doctor saying i was eli...</td>\n",
       "    </tr>\n",
       "    <tr>\n",
       "      <th>11</th>\n",
       "      <td>11</td>\n",
       "      <td>men are expendable period imagine the outcry i...</td>\n",
       "    </tr>\n",
       "    <tr>\n",
       "      <th>12</th>\n",
       "      <td>12</td>\n",
       "      <td>i think they gave the vaccine to spread it so ...</td>\n",
       "    </tr>\n",
       "    <tr>\n",
       "      <th>15</th>\n",
       "      <td>15</td>\n",
       "      <td>the vaccine only protects against 9 strains o...</td>\n",
       "    </tr>\n",
       "    <tr>\n",
       "      <th>16</th>\n",
       "      <td>16</td>\n",
       "      <td>this better not be antivax stuff all vaccinati...</td>\n",
       "    </tr>\n",
       "    <tr>\n",
       "      <th>17</th>\n",
       "      <td>17</td>\n",
       "      <td>let the girls deal with the side effects as lo...</td>\n",
       "    </tr>\n",
       "    <tr>\n",
       "      <th>18</th>\n",
       "      <td>18</td>\n",
       "      <td>yeah was gonna post i think hpv vax was kind o...</td>\n",
       "    </tr>\n",
       "    <tr>\n",
       "      <th>19</th>\n",
       "      <td>19</td>\n",
       "      <td>i really think there has to be something perve...</td>\n",
       "    </tr>\n",
       "    <tr>\n",
       "      <th>20</th>\n",
       "      <td>20</td>\n",
       "      <td>you mean female politicians and leaders like t...</td>\n",
       "    </tr>\n",
       "    <tr>\n",
       "      <th>21</th>\n",
       "      <td>21</td>\n",
       "      <td>are you being sarcastic they knew it affected ...</td>\n",
       "    </tr>\n",
       "    <tr>\n",
       "      <th>22</th>\n",
       "      <td>22</td>\n",
       "      <td>ending the vaccine apartheid would cost about ...</td>\n",
       "    </tr>\n",
       "    <tr>\n",
       "      <th>23</th>\n",
       "      <td>23</td>\n",
       "      <td>no women spread it much faster than men its to...</td>\n",
       "    </tr>\n",
       "    <tr>\n",
       "      <th>24</th>\n",
       "      <td>24</td>\n",
       "      <td>most people infected with hpv never develop th...</td>\n",
       "    </tr>\n",
       "    <tr>\n",
       "      <th>25</th>\n",
       "      <td>25</td>\n",
       "      <td>im not a gambling man my issue with this is ho...</td>\n",
       "    </tr>\n",
       "    <tr>\n",
       "      <th>26</th>\n",
       "      <td>26</td>\n",
       "      <td>im not a gambling man my issue with this is ho...</td>\n",
       "    </tr>\n",
       "    <tr>\n",
       "      <th>27</th>\n",
       "      <td>27</td>\n",
       "      <td>as much as i think women are evil i do not wan...</td>\n",
       "    </tr>\n",
       "    <tr>\n",
       "      <th>28</th>\n",
       "      <td>28</td>\n",
       "      <td>yeah but here in the uk we live in a patriarch...</td>\n",
       "    </tr>\n",
       "    <tr>\n",
       "      <th>29</th>\n",
       "      <td>29</td>\n",
       "      <td>the way he talked about it made it seem like b...</td>\n",
       "    </tr>\n",
       "    <tr>\n",
       "      <th>30</th>\n",
       "      <td>30</td>\n",
       "      <td>considering there are 100s of strains of hpv a...</td>\n",
       "    </tr>\n",
       "    <tr>\n",
       "      <th>31</th>\n",
       "      <td>31</td>\n",
       "      <td>vaccines are reasonably safe i am not a expert...</td>\n",
       "    </tr>\n",
       "    <tr>\n",
       "      <th>...</th>\n",
       "      <td>...</td>\n",
       "      <td>...</td>\n",
       "    </tr>\n",
       "    <tr>\n",
       "      <th>15813</th>\n",
       "      <td>15812</td>\n",
       "      <td>confirmed 1 delta awarded to ugtpm28 historyrc...</td>\n",
       "    </tr>\n",
       "    <tr>\n",
       "      <th>15814</th>\n",
       "      <td>15813</td>\n",
       "      <td>hpv has become the leading cause of head and n...</td>\n",
       "    </tr>\n",
       "    <tr>\n",
       "      <th>15815</th>\n",
       "      <td>15814</td>\n",
       "      <td>i have understood that the major reason men ar...</td>\n",
       "    </tr>\n",
       "    <tr>\n",
       "      <th>15816</th>\n",
       "      <td>15815</td>\n",
       "      <td>get the vaccine and practice safe sex hpv canc...</td>\n",
       "    </tr>\n",
       "    <tr>\n",
       "      <th>15817</th>\n",
       "      <td>15816</td>\n",
       "      <td>it amazes me that more people dont know this t...</td>\n",
       "    </tr>\n",
       "    <tr>\n",
       "      <th>15818</th>\n",
       "      <td>15817</td>\n",
       "      <td>well done on all that information but some of ...</td>\n",
       "    </tr>\n",
       "    <tr>\n",
       "      <th>15819</th>\n",
       "      <td>15818</td>\n",
       "      <td>can you talk more about the specific strain yo...</td>\n",
       "    </tr>\n",
       "    <tr>\n",
       "      <th>15820</th>\n",
       "      <td>15819</td>\n",
       "      <td>it only protects against the most common strai...</td>\n",
       "    </tr>\n",
       "    <tr>\n",
       "      <th>15821</th>\n",
       "      <td>15820</td>\n",
       "      <td>gardasil works to prevent the serious types o...</td>\n",
       "    </tr>\n",
       "    <tr>\n",
       "      <th>15822</th>\n",
       "      <td>15821</td>\n",
       "      <td>i thought this was common knowledge</td>\n",
       "    </tr>\n",
       "    <tr>\n",
       "      <th>15823</th>\n",
       "      <td>15822</td>\n",
       "      <td>first off i hope this all passes quickly for y...</td>\n",
       "    </tr>\n",
       "    <tr>\n",
       "      <th>15824</th>\n",
       "      <td>15823</td>\n",
       "      <td>also surprised how many people dont know that ...</td>\n",
       "    </tr>\n",
       "    <tr>\n",
       "      <th>15825</th>\n",
       "      <td>15824</td>\n",
       "      <td>id chalk it up to a bad sex education the us i...</td>\n",
       "    </tr>\n",
       "    <tr>\n",
       "      <th>15826</th>\n",
       "      <td>15825</td>\n",
       "      <td>i knew about it and you knew about it but the ...</td>\n",
       "    </tr>\n",
       "    <tr>\n",
       "      <th>15828</th>\n",
       "      <td>15827</td>\n",
       "      <td>or a bad doctor i got told for all three shots...</td>\n",
       "    </tr>\n",
       "    <tr>\n",
       "      <th>15829</th>\n",
       "      <td>15828</td>\n",
       "      <td>i dont know why you were downvoted its a perfe...</td>\n",
       "    </tr>\n",
       "    <tr>\n",
       "      <th>15830</th>\n",
       "      <td>15829</td>\n",
       "      <td>thanks for the reply from my knowledge an infe...</td>\n",
       "    </tr>\n",
       "    <tr>\n",
       "      <th>15831</th>\n",
       "      <td>15830</td>\n",
       "      <td>i hope your username is not a reflection of yo...</td>\n",
       "    </tr>\n",
       "    <tr>\n",
       "      <th>15832</th>\n",
       "      <td>15831</td>\n",
       "      <td>my fiances dr told him he didnt need to get te...</td>\n",
       "    </tr>\n",
       "    <tr>\n",
       "      <th>15834</th>\n",
       "      <td>15833</td>\n",
       "      <td>holy jesus you know that is grounds to report ...</td>\n",
       "    </tr>\n",
       "    <tr>\n",
       "      <th>15835</th>\n",
       "      <td>15834</td>\n",
       "      <td>you username implies youre studying to be a do...</td>\n",
       "    </tr>\n",
       "    <tr>\n",
       "      <th>15837</th>\n",
       "      <td>15836</td>\n",
       "      <td>youve probably already been exposed to hpv if ...</td>\n",
       "    </tr>\n",
       "    <tr>\n",
       "      <th>15838</th>\n",
       "      <td>15837</td>\n",
       "      <td>she doesnt believe in vaccineshmmsort of fitti...</td>\n",
       "    </tr>\n",
       "    <tr>\n",
       "      <th>15839</th>\n",
       "      <td>15838</td>\n",
       "      <td>the vaccination only covers a few strains of t...</td>\n",
       "    </tr>\n",
       "    <tr>\n",
       "      <th>15840</th>\n",
       "      <td>15839</td>\n",
       "      <td>gardasil protects against the two strains that...</td>\n",
       "    </tr>\n",
       "    <tr>\n",
       "      <th>15841</th>\n",
       "      <td>15840</td>\n",
       "      <td>the vaccine protects from several potential st...</td>\n",
       "    </tr>\n",
       "    <tr>\n",
       "      <th>15842</th>\n",
       "      <td>15841</td>\n",
       "      <td>there are heaps of different types of hpv viru...</td>\n",
       "    </tr>\n",
       "    <tr>\n",
       "      <th>15843</th>\n",
       "      <td>15842</td>\n",
       "      <td>a vaccine does not work if you already have th...</td>\n",
       "    </tr>\n",
       "    <tr>\n",
       "      <th>15844</th>\n",
       "      <td>15843</td>\n",
       "      <td>im pretty sure youre too old to get the vaccin...</td>\n",
       "    </tr>\n",
       "    <tr>\n",
       "      <th>15845</th>\n",
       "      <td>15844</td>\n",
       "      <td>i laughed out loud thinking of anti vaccers re...</td>\n",
       "    </tr>\n",
       "  </tbody>\n",
       "</table>\n",
       "<p>14045 rows × 2 columns</p>\n",
       "</div>"
      ],
      "text/plain": [
       "      Unnamed: 0                                           comments\n",
       "0              0  we should all think about how fucked up this i...\n",
       "1              1  mystery disease after gardisil vaccine given t...\n",
       "2              2  its in uk why am i not surprised men need to r...\n",
       "3              3  socialized medicine ftl how do you think males...\n",
       "4              4  here is a cached version of the daily mail con...\n",
       "5              5  cmon guys get real the first paragraph of this...\n",
       "6              6  did someone in that article really fucking say...\n",
       "7              7  thats cool ill stop fucking then no diseases f...\n",
       "8              8              the same brits that killed off alfie \n",
       "9              9  i think a lot of the time things like this are...\n",
       "10            10  i got a letter from my doctor saying i was eli...\n",
       "11            11  men are expendable period imagine the outcry i...\n",
       "12            12  i think they gave the vaccine to spread it so ...\n",
       "15            15   the vaccine only protects against 9 strains o...\n",
       "16            16  this better not be antivax stuff all vaccinati...\n",
       "17            17  let the girls deal with the side effects as lo...\n",
       "18            18  yeah was gonna post i think hpv vax was kind o...\n",
       "19            19  i really think there has to be something perve...\n",
       "20            20  you mean female politicians and leaders like t...\n",
       "21            21  are you being sarcastic they knew it affected ...\n",
       "22            22  ending the vaccine apartheid would cost about ...\n",
       "23            23  no women spread it much faster than men its to...\n",
       "24            24  most people infected with hpv never develop th...\n",
       "25            25  im not a gambling man my issue with this is ho...\n",
       "26            26  im not a gambling man my issue with this is ho...\n",
       "27            27  as much as i think women are evil i do not wan...\n",
       "28            28  yeah but here in the uk we live in a patriarch...\n",
       "29            29  the way he talked about it made it seem like b...\n",
       "30            30  considering there are 100s of strains of hpv a...\n",
       "31            31  vaccines are reasonably safe i am not a expert...\n",
       "...          ...                                                ...\n",
       "15813      15812  confirmed 1 delta awarded to ugtpm28 historyrc...\n",
       "15814      15813  hpv has become the leading cause of head and n...\n",
       "15815      15814  i have understood that the major reason men ar...\n",
       "15816      15815  get the vaccine and practice safe sex hpv canc...\n",
       "15817      15816  it amazes me that more people dont know this t...\n",
       "15818      15817  well done on all that information but some of ...\n",
       "15819      15818  can you talk more about the specific strain yo...\n",
       "15820      15819  it only protects against the most common strai...\n",
       "15821      15820   gardasil works to prevent the serious types o...\n",
       "15822      15821                i thought this was common knowledge\n",
       "15823      15822  first off i hope this all passes quickly for y...\n",
       "15824      15823  also surprised how many people dont know that ...\n",
       "15825      15824  id chalk it up to a bad sex education the us i...\n",
       "15826      15825  i knew about it and you knew about it but the ...\n",
       "15828      15827  or a bad doctor i got told for all three shots...\n",
       "15829      15828  i dont know why you were downvoted its a perfe...\n",
       "15830      15829  thanks for the reply from my knowledge an infe...\n",
       "15831      15830  i hope your username is not a reflection of yo...\n",
       "15832      15831  my fiances dr told him he didnt need to get te...\n",
       "15834      15833  holy jesus you know that is grounds to report ...\n",
       "15835      15834  you username implies youre studying to be a do...\n",
       "15837      15836  youve probably already been exposed to hpv if ...\n",
       "15838      15837  she doesnt believe in vaccineshmmsort of fitti...\n",
       "15839      15838  the vaccination only covers a few strains of t...\n",
       "15840      15839  gardasil protects against the two strains that...\n",
       "15841      15840  the vaccine protects from several potential st...\n",
       "15842      15841  there are heaps of different types of hpv viru...\n",
       "15843      15842  a vaccine does not work if you already have th...\n",
       "15844      15843  im pretty sure youre too old to get the vaccin...\n",
       "15845      15844  i laughed out loud thinking of anti vaccers re...\n",
       "\n",
       "[14045 rows x 2 columns]"
      ]
     },
     "execution_count": 6,
     "metadata": {},
     "output_type": "execute_result"
    }
   ],
   "source": [
    "new_df2(10)"
   ]
  },
  {
   "cell_type": "code",
   "execution_count": 7,
   "metadata": {
    "collapsed": true
   },
   "outputs": [],
   "source": [
    "# Gensim\n",
    "import gensim\n",
    "import gensim.corpora as corpora\n",
    "from gensim.utils import simple_preprocess\n",
    "from gensim.models import CoherenceModel\n",
    "\n",
    "# spacy for lemmatization\n",
    "import spacy\n",
    "\n",
    "# Plotting tools\n",
    "import pyLDAvis\n",
    "import matplotlib.pyplot as plt\n",
    "%matplotlib inline"
   ]
  },
  {
   "cell_type": "code",
   "execution_count": 8,
   "metadata": {
    "collapsed": true
   },
   "outputs": [],
   "source": [
    "data = new_df2.comments.values.tolist()"
   ]
  },
  {
   "cell_type": "code",
   "execution_count": 9,
   "metadata": {},
   "outputs": [
    {
     "name": "stderr",
     "output_type": "stream",
     "text": [
      "<input>:3: DeprecationWarning: invalid escape sequence \\S\n",
      "<input>:3: DeprecationWarning: invalid escape sequence \\S\n",
      "<input>:3: DeprecationWarning: invalid escape sequence \\S\n",
      "<ipython-input-9-077239d5748f>:3: DeprecationWarning: invalid escape sequence \\S\n",
      "  data = [re.sub('http\\S+', \"\", sent) for sent in data]\n"
     ]
    }
   ],
   "source": [
    "#Remove http\n",
    "import re\n",
    "data = [re.sub('http\\S+', \"\", sent) for sent in data]"
   ]
  },
  {
   "cell_type": "code",
   "execution_count": 11,
   "metadata": {},
   "outputs": [
    {
     "name": "stderr",
     "output_type": "stream",
     "text": [
      "/anaconda3/lib/python3.7/site-packages/nltk/decorators.py:70: DeprecationWarning: `formatargspec` is deprecated since Python 3.5. Use `signature` and the `Signature` object directly\n",
      "  formatvalue=lambda value: \"\")[1:-1]\n"
     ]
    }
   ],
   "source": [
    "# NLTK Stop words\n",
    "from nltk.corpus import stopwords\n",
    "stop_words = stopwords.words('english')\n",
    "stop_words.extend(['from', 'subject', 're', 'edu', 'use', 'http'])"
   ]
  },
  {
   "cell_type": "code",
   "execution_count": 12,
   "metadata": {},
   "outputs": [
    {
     "name": "stdout",
     "output_type": "stream",
     "text": [
      "[['we', 'should', 'all', 'think', 'about', 'how', 'fucked', 'up', 'this', 'is', 'when', 'the', 'nhs', 'thinks', 'its', 'better', 'for', 'men', 'to', 'get', 'life', 'threatening', 'cancer', 'than', 'supply', 'vaccine', 'because', 'of', 'cost', 'considerations'], ['mystery', 'disease', 'after', 'gardisil', 'vaccine', 'given', 'to', 'girls', 'believe', 'this', 'is', 'syncope', 'from', 'the', 'gardasil', 'vaccine', 'video', 'is', 'in', 'spanish', 'side', 'effects', 'overall', 'summary', 'of', 'adverse', 'reactions', 'headache', 'fever', 'nausea', 'and', 'dizziness', 'and', 'local', 'injection', 'site', 'reactions', 'pain', 'swelling', 'erythema', 'pruritus', 'and', 'bruising', 'occurred', 'after', 'administration', 'with', 'gardasil', 'syncope', 'sometimes', 'associated', 'with', 'tonicclonic', 'movements', 'and', 'other', 'seizurelike', 'activity', 'has', 'been', 'reported', 'following', 'vaccination', 'with', 'gardasil', 'and', 'may', 'result', 'in', 'falling', 'with', 'injury', 'observation', 'for', 'minutes', 'after', 'administration', 'is', 'recommended', 'see', 'warnings', 'and', 'precautions', 'anaphylaxis', 'has', 'been', 'reported', 'following', 'vaccination', 'with', 'gardasil', 'btw', 'the', 'vaccine', 'only', 'protects', 'against', 'strains', 'of', 'hpv', 'there', 'are', 'more', 'than', 'strains', 'of', 'hpv'], ['its', 'in', 'uk', 'why', 'am', 'not', 'surprised', 'men', 'need', 'to', 'realize', 'if', 'they', 'dont', 'look', 'out', 'for', 'no', 'one', 'else', 'will']]\n"
     ]
    }
   ],
   "source": [
    "# turn sentences into words \n",
    "def sent_to_words(sentences):\n",
    "    for sentence in sentences:\n",
    "        yield(gensim.utils.simple_preprocess(str(sentence), deacc=True))  \n",
    "\n",
    "data_words = list(sent_to_words(data))\n",
    "\n",
    "print(data_words[:3])"
   ]
  },
  {
   "cell_type": "code",
   "execution_count": 13,
   "metadata": {
    "collapsed": true
   },
   "outputs": [],
   "source": [
    "bigram = gensim.models.Phrases(data_words, min_count=5, threshold=1)\n",
    "bigram_mod = gensim.models.phrases.Phraser(bigram)"
   ]
  },
  {
   "cell_type": "code",
   "execution_count": 14,
   "metadata": {
    "collapsed": true
   },
   "outputs": [],
   "source": [
    "# Define functions for stopwords, bigrams, trigrams and lemmatization\n",
    "def remove_stopwords(texts):\n",
    "    return [[word for word in simple_preprocess(str(doc)) if word not in stop_words] for doc in texts]\n",
    "\n",
    "def make_bigrams(texts):\n",
    "    return [bigram_mod[doc] for doc in texts]\n",
    "\n",
    "def lemmatization(texts, allowed_postags=['NOUN', 'ADJ', 'VERB', 'ADV']):\n",
    "   \n",
    "    texts_out = []\n",
    "    for sent in texts:\n",
    "        doc = nlp(\" \".join(sent)) \n",
    "        texts_out.append([token.lemma_ for token in doc if token.pos_ in allowed_postags])\n",
    "    return texts_out"
   ]
  },
  {
   "cell_type": "code",
   "execution_count": 15,
   "metadata": {},
   "outputs": [
    {
     "name": "stdout",
     "output_type": "stream",
     "text": [
      "[['think', 'fuck', 'nhs', 'think', 'good', 'men_get', 'life_threaten', 'cancer', 'supply', 'vaccine', 'cost', 'consideration'], ['mystery', 'disease', 'gardisil', 'vaccine', 'give', 'girl', 'believe', 'syncope', 'gardasil_vaccine', 'video', 'spanish', 'side_effect', 'overall_summary', 'adverse_reaction', 'headache_fever', 'nausea', 'dizziness', 'local_injection', 'site_reaction', 'pain_swell', 'erythema_pruritus', 'bruising_occurr', 'administration', 'gardasil_syncope', 'sometimes_associat', 'tonicclonic_movement', 'seizurelike_activity', 'reported_follow', 'vaccination', 'gardasil', 'may_result', 'fall', 'injury_observation', 'minute', 'administration', 'recommend', 'see', 'warning', 'precautions_anaphylaxi', 'reported_follow', 'vaccination', 'gardasil', 'btw', 'vaccine_protect', 'strain', 'hpv_strain', 'hpv'], ['surprised', 'man', 'need', 'realize', 'do', 'not', 'look', 'else'], ['socialized_medicine', 'ftl', 'think', 'male', 'system', 'politician', 'get', 'control', 'make', 'healthcare', 'decision'], ['cached', 'version', 'daily_mail', 'content', 'link', 'cached', 'version', 'webpage', 'do', 'not', 'register', 'page', 'view', 'also', 'doesnt_give', 'daily_mail', 'advertising', 'revenue', 'image', 'article', 'daily_mail', 'know', 'hold', 'controversial', 'opinion', 'article', 'tolerate', 'outlet', 'also', 'know', 'highly', 'biased', 'also', 'publish', 'false', 'misleading', 'article', 'be', 'comment', 'post', 'automatically', 'feedback', 'something_wrong', 'send', 'pm'], ['cmon', 'guy', 'get', 'real', 'first', 'paragraph', 'article', 'say', 'political', 'party', 'lining', 'support', 'mail', 'sunday', 'campaign', 'vaccinate', 'teenage_boy', 'cancercaus', 'virus', 'rd', 'paragraph', 'also_caus', 'thousand', 'case', 'cancer', 'every_year', 'among_man', 'affect', 'area', 'include', 'head', 'throat', 'often', 'decad', 'infect', 'sounds_like', 'recently', 'come', 'light', 'hpv', 'also', 'effect', 'man', 'be', 'mgtow', 'plenty', 'example', 'man', 'fuck', 'be', 'not', 'improve', 'waste', 'time', 'bitch', 'thing', 'fix'], ['someone', 'article', 'really', 'fucking', 'would', 'prefer', 'boy', 'get_canc', 'future', 'lose', 'money'], ['s', 'cool', 'ill', 'stop', 'fuck', 'disease'], ['brit', 'kill', 'alfie'], ['think', 'lot', 'time', 'things_like', 'result', 'squeaky', 'wheel', 'get', 'grease', 'principal', 'often', 'care', 'man', 'woman', 'make', 'little', 'thing', 'issue', 'get', 'lion', 'share', 'course', 'woman', 'wonderful', 'bias', 'play', 'society', 'maybe', 'full', 'shit', 'dunno']]\n"
     ]
    }
   ],
   "source": [
    "# Remove Stop Words\n",
    "data_words_nostops = remove_stopwords(data_words)\n",
    "\n",
    "# Form Bigrams\n",
    "data_words_bigrams = make_bigrams(data_words_nostops)\n",
    "\n",
    "\n",
    "nlp = spacy.load('en', disable=['parser', 'ner'])\n",
    "\n",
    "# Do lemmatization keeping only noun, adj, vb, adv\n",
    "data_lemmatized = lemmatization(data_words_bigrams, allowed_postags=['NOUN', 'ADJ', 'VERB', 'ADV'])\n",
    "\n",
    "print(data_lemmatized[:10])"
   ]
  },
  {
   "cell_type": "code",
   "execution_count": 16,
   "metadata": {},
   "outputs": [
    {
     "name": "stdout",
     "output_type": "stream",
     "text": [
      "[[(0, 1), (1, 1), (2, 1), (3, 1), (4, 1), (5, 1), (6, 2), (7, 1)]]\n"
     ]
    }
   ],
   "source": [
    "# Create Dictionary\n",
    "from gensim.corpora import Dictionary\n",
    "id2word = corpora.Dictionary(data_lemmatized)\n",
    "\n",
    "#filtering words \n",
    "id2word.filter_extremes(no_below=50, no_above=0.8)\n",
    "\n",
    "# Create Corpus\n",
    "texts = data_lemmatized\n",
    "\n",
    "# Term Document Frequency\n",
    "corpus = [id2word.doc2bow(text) for text in texts]\n",
    "\n",
    "# View\n",
    "print(corpus[:1])"
   ]
  },
  {
   "cell_type": "code",
   "execution_count": 17,
   "metadata": {},
   "outputs": [
    {
     "data": {
      "text/plain": [
       "[[('cancer', 1),\n",
       "  ('cost', 1),\n",
       "  ('fuck', 1),\n",
       "  ('good', 1),\n",
       "  ('men_get', 1),\n",
       "  ('nhs', 1),\n",
       "  ('think', 2),\n",
       "  ('vaccine', 1)]]"
      ]
     },
     "execution_count": 17,
     "metadata": {},
     "output_type": "execute_result"
    }
   ],
   "source": [
    "# Human readable format of corpus (term-frequency)\n",
    "[[(id2word[id], freq) for id, freq in cp] for cp in corpus[:1]]"
   ]
  },
  {
   "cell_type": "code",
   "execution_count": null,
   "metadata": {
    "collapsed": true
   },
   "outputs": [],
   "source": [
    "# Build LDA model\n",
    "lda_model = gensim.models.ldamodel.LdaModel(corpus=corpus,\n",
    "                                           id2word=id2word,\n",
    "                                           num_topics=3, \n",
    "                                           random_state=100,\n",
    "                                           update_every=1,\n",
    "                                           chunksize=100,\n",
    "                                           passes=10,\n",
    "                                           alpha='auto',\n",
    "                                           per_word_topics=True)"
   ]
  },
  {
   "cell_type": "code",
   "execution_count": 21,
   "metadata": {
    "collapsed": true
   },
   "outputs": [],
   "source": [
    "#Using Mallet's Algorithm "
   ]
  },
  {
   "cell_type": "code",
   "execution_count": null,
   "metadata": {
    "collapsed": true
   },
   "outputs": [],
   "source": [
    "mallet_path = '/Users/Yokimsu/Desktop/Reddit/mallet-2.0.8/bin/mallet'\n",
    "ldamallet = gensim.models.wrappers.LdaMallet(mallet_path, corpus=corpus, num_topics=3, id2word=id2word)"
   ]
  },
  {
   "cell_type": "code",
   "execution_count": 23,
   "metadata": {},
   "outputs": [
    {
     "name": "stdout",
     "output_type": "stream",
     "text": [
      "[(0,\n",
      "  [('vaccine', 0.08488418797697148),\n",
      "   ('give', 0.0294773954567769),\n",
      "   ('male', 0.024322756281519167),\n",
      "   ('boy', 0.02137724818137189),\n",
      "   ('people', 0.019636720667648502),\n",
      "   ('girl', 0.019235060472173875),\n",
      "   ('pay', 0.01751684741375463),\n",
      "   ('free', 0.016981300486455124),\n",
      "   ('cost', 0.015240772972731735),\n",
      "   ('hpv_vaccine', 0.014794483866648816)]),\n",
      " (1,\n",
      "  [('make', 0.02911220688615663),\n",
      "   ('people', 0.0270450679356603),\n",
      "   ('doctor', 0.02176955707241446),\n",
      "   ('good', 0.0213819685191964),\n",
      "   ('thing', 0.019465558450507094),\n",
      "   ('work', 0.014792963114489351),\n",
      "   ('issue', 0.012252104821170949),\n",
      "   ('lot', 0.011649189293942852),\n",
      "   ('fact', 0.009926573501862579),\n",
      "   ('care', 0.0094313214616395)]),\n",
      " (2,\n",
      "  [('hpv', 0.06258963786303334),\n",
      "   ('man', 0.060953746862674796),\n",
      "   ('woman', 0.053693079956973824),\n",
      "   ('cancer', 0.03670670491215489),\n",
      "   ('sex', 0.022006095374686268),\n",
      "   ('strain', 0.01718806023664396),\n",
      "   ('virus', 0.015395302975977052),\n",
      "   ('year', 0.014969523126568662),\n",
      "   ('cervical_cancer', 0.0147454284689853),\n",
      "   ('case', 0.014297239153818572)])]\n",
      "\n",
      "Coherence Score:  0.4990024537156758\n"
     ]
    }
   ],
   "source": [
    "from pprint import pprint\n",
    "pprint(ldamallet.show_topics(formatted=False))\n",
    "\n",
    "# Compute Coherence Score\n",
    "coherence_model_ldamallet = CoherenceModel(model=ldamallet, texts=data_lemmatized, dictionary=id2word, coherence='c_v')\n",
    "coherence_ldamallet = coherence_model_ldamallet.get_coherence()\n",
    "print('\\nCoherence Score: ', coherence_ldamallet)"
   ]
  },
  {
   "cell_type": "code",
   "execution_count": 24,
   "metadata": {
    "collapsed": true
   },
   "outputs": [],
   "source": [
    "def compute_coherence_values(dictionary, corpus, texts, limit):\n",
    "    coherence_values = []\n",
    "    model_list = []\n",
    "    for num_topics in range(3, limit, 1):\n",
    "        model = gensim.models.wrappers.LdaMallet(mallet_path, corpus=corpus, num_topics=num_topics, id2word=id2word)\n",
    "        model_list.append(model)\n",
    "        coherencemodel = CoherenceModel(model=model, texts=texts, dictionary=dictionary, coherence='c_v')\n",
    "        coherence_values.append(coherencemodel.get_coherence())\n",
    "\n",
    "    return model_list, coherence_values"
   ]
  },
  {
   "cell_type": "code",
   "execution_count": 25,
   "metadata": {
    "collapsed": true
   },
   "outputs": [],
   "source": [
    "model_list, coherence_values = compute_coherence_values(dictionary=id2word, corpus=corpus, texts=data_lemmatized, limit=10)"
   ]
  },
  {
   "cell_type": "code",
   "execution_count": 26,
   "metadata": {},
   "outputs": [
    {
     "name": "stderr",
     "output_type": "stream",
     "text": [
      "/anaconda3/lib/python3.7/site-packages/matplotlib/cbook/__init__.py:2349: DeprecationWarning: Using or importing the ABCs from 'collections' instead of from 'collections.abc' is deprecated, and in 3.8 it will stop working\n",
      "  if isinstance(obj, collections.Iterator):\n",
      "/anaconda3/lib/python3.7/site-packages/matplotlib/cbook/__init__.py:2366: DeprecationWarning: Using or importing the ABCs from 'collections' instead of from 'collections.abc' is deprecated, and in 3.8 it will stop working\n",
      "  return list(data) if isinstance(data, collections.MappingView) else data\n"
     ]
    },
    {
     "data": {
      "image/png": "[encoded data removed]",
      "text/plain": [
       "<Figure size 432x288 with 1 Axes>"
      ]
     },
     "metadata": {
      "needs_background": "light"
     },
     "output_type": "display_data"
    }
   ],
   "source": [
    "# Show graph presenting the coherence values \n",
    "limit=10\n",
    "x = range(3, limit, 1)\n",
    "plt.plot(x, coherence_values)\n",
    "plt.xlabel(\"Num Topics\")\n",
    "plt.ylabel(\"Coherence score\")\n",
    "plt.legend((\"coherence_values\"), loc='best')\n",
    "plt.show()"
   ]
  },
  {
   "cell_type": "code",
   "execution_count": 27,
   "metadata": {},
   "outputs": [
    {
     "name": "stdout",
     "output_type": "stream",
     "text": [
      "Num Topics = 3  has Coherence Value of 0.481\n",
      "Num Topics = 4  has Coherence Value of 0.5106\n",
      "Num Topics = 5  has Coherence Value of 0.5244\n",
      "Num Topics = 6  has Coherence Value of 0.5625\n",
      "Num Topics = 7  has Coherence Value of 0.5415\n",
      "Num Topics = 8  has Coherence Value of 0.5389\n",
      "Num Topics = 9  has Coherence Value of 0.5089\n"
     ]
    }
   ],
   "source": [
    "for m, cv in zip(x, coherence_values):\n",
    "    print(\"Num Topics =\", m, \" has Coherence Value of\", round(cv, 4))"
   ]
  },
  {
   "cell_type": "code",
   "execution_count": 31,
   "metadata": {},
   "outputs": [
    {
     "name": "stdout",
     "output_type": "stream",
     "text": [
      "[(0,\n",
      "  '0.094*\"people\" + 0.052*\"make\" + 0.040*\"thing\" + 0.036*\"good\" + 0.035*\"sex\" '\n",
      "  '+ 0.024*\"lot\" + 0.019*\"time\" + 0.018*\"talk\" + 0.018*\"bad\" + 0.018*\"happen\" '\n",
      "  '+ 0.017*\"kid\" + 0.015*\"call\" + 0.014*\"kind\" + 0.014*\"change\" + '\n",
      "  '0.014*\"start\" + 0.014*\"feel\" + 0.013*\"stop\" + 0.013*\"die\" + 0.012*\"put\" + '\n",
      "  '0.012*\"life\"'),\n",
      " (1,\n",
      "  '0.170*\"vaccine\" + 0.058*\"give\" + 0.048*\"male\" + 0.043*\"boy\" + 0.039*\"girl\" '\n",
      "  '+ 0.030*\"hpv_vaccine\" + 0.029*\"vaccinate\" + 0.028*\"age\" + '\n",
      "  '0.027*\"vaccination\" + 0.026*\"reason\" + 0.024*\"female\" + 0.022*\"benefit\" + '\n",
      "  '0.022*\"child\" + 0.018*\"recommend\" + 0.016*\"protect\" + 0.016*\"gardasil\" + '\n",
      "  '0.016*\"effect\" + 0.015*\"effective\" + 0.014*\"parent\" + 0.014*\"vaccinated\"'),\n",
      " (2,\n",
      "  '0.032*\"point\" + 0.024*\"find\" + 0.021*\"study\" + 0.021*\"risk\" + 0.020*\"case\" '\n",
      "  '+ 0.018*\"time\" + 0.017*\"post\" + 0.017*\"number\" + 0.017*\"show\" + '\n",
      "  '0.016*\"read\" + 0.015*\"question\" + 0.015*\"link\" + 0.015*\"rate\" + '\n",
      "  '0.014*\"comment\" + 0.014*\"high\" + 0.014*\"research\" + 0.014*\"fact\" + '\n",
      "  '0.013*\"edit\" + 0.013*\"article\" + 0.012*\"source\"'),\n",
      " (3,\n",
      "  '0.046*\"doctor\" + 0.036*\"pay\" + 0.035*\"free\" + 0.031*\"cost\" + 0.026*\"cover\" '\n",
      "  '+ 0.021*\"money\" + 0.019*\"work\" + 0.018*\"shot\" + 0.017*\"government\" + '\n",
      "  '0.017*\"year\" + 0.016*\"live\" + 0.015*\"insurance\" + 0.014*\"health\" + '\n",
      "  '0.014*\"treatment\" + 0.014*\"state\" + 0.013*\"provide\" + 0.012*\"medical\" + '\n",
      "  '0.012*\"side_effect\" + 0.012*\"canada\" + 0.011*\"country\"'),\n",
      " (4,\n",
      "  '0.121*\"hpv\" + 0.071*\"cancer\" + 0.033*\"strain\" + 0.030*\"virus\" + '\n",
      "  '0.029*\"cervical_cancer\" + 0.023*\"disease\" + 0.023*\"wart\" + 0.023*\"test\" + '\n",
      "  '0.019*\"risk\" + 0.018*\"population\" + 0.017*\"type\" + 0.016*\"prevent\" + '\n",
      "  '0.016*\"spread\" + 0.015*\"infection\" + 0.014*\"partner\" + 0.013*\"chance\" + '\n",
      "  '0.013*\"common\" + 0.013*\"protect\" + 0.013*\"body\" + 0.013*\"genital_wart\"'),\n",
      " (5,\n",
      "  '0.119*\"man\" + 0.104*\"woman\" + 0.025*\"issue\" + 0.021*\"problem\" + '\n",
      "  '0.019*\"care\" + 0.018*\"feminist\" + 0.017*\"gender\" + 0.013*\"fuck\" + '\n",
      "  '0.013*\"treat\" + 0.012*\"group\" + 0.012*\"argument\" + 0.012*\"work\" + '\n",
      "  '0.011*\"support\" + 0.011*\"great\" + 0.010*\"shit\" + 0.010*\"person\" + '\n",
      "  '0.010*\"world\" + 0.009*\"big\" + 0.009*\"small\" + 0.008*\"dont_think\"')]\n"
     ]
    }
   ],
   "source": [
    "# RQ4 - Topic Modeling \n",
    "# Using k = 6 as the optimal model \n",
    "optimal_model = model_list[3]\n",
    "model_topics = optimal_model.show_topics(formatted=False)\n",
    "pprint(optimal_model.print_topics(num_words=20))"
   ]
  },
  {
   "cell_type": "code",
   "execution_count": 32,
   "metadata": {},
   "outputs": [
    {
     "data": {
      "text/html": [
       "<div>\n",
       "<style scoped>\n",
       "    .dataframe tbody tr th:only-of-type {\n",
       "        vertical-align: middle;\n",
       "    }\n",
       "\n",
       "    .dataframe tbody tr th {\n",
       "        vertical-align: top;\n",
       "    }\n",
       "\n",
       "    .dataframe thead th {\n",
       "        text-align: right;\n",
       "    }\n",
       "</style>\n",
       "<table border=\"1\" class=\"dataframe\">\n",
       "  <thead>\n",
       "    <tr style=\"text-align: right;\">\n",
       "      <th></th>\n",
       "      <th>Dominant_Topic</th>\n",
       "      <th>Perc_Contribution</th>\n",
       "      <th>Topic_Keywords</th>\n",
       "      <th>0</th>\n",
       "    </tr>\n",
       "  </thead>\n",
       "  <tbody>\n",
       "    <tr>\n",
       "      <th>0</th>\n",
       "      <td>3.0</td>\n",
       "      <td>0.1832</td>\n",
       "      <td>doctor, pay, free, cost, cover, money, work, s...</td>\n",
       "      <td>we should all think about how fucked up this i...</td>\n",
       "    </tr>\n",
       "    <tr>\n",
       "      <th>1</th>\n",
       "      <td>1.0</td>\n",
       "      <td>0.2475</td>\n",
       "      <td>vaccine, give, male, boy, girl, hpv_vaccine, v...</td>\n",
       "      <td>mystery disease after gardisil vaccine given t...</td>\n",
       "    </tr>\n",
       "    <tr>\n",
       "      <th>2</th>\n",
       "      <td>2.0</td>\n",
       "      <td>0.1795</td>\n",
       "      <td>point, find, study, risk, case, time, post, nu...</td>\n",
       "      <td>its in uk why am i not surprised men need to r...</td>\n",
       "    </tr>\n",
       "    <tr>\n",
       "      <th>3</th>\n",
       "      <td>3.0</td>\n",
       "      <td>0.1845</td>\n",
       "      <td>doctor, pay, free, cost, cover, money, work, s...</td>\n",
       "      <td>socialized medicine ftl how do you think males...</td>\n",
       "    </tr>\n",
       "    <tr>\n",
       "      <th>4</th>\n",
       "      <td>2.0</td>\n",
       "      <td>0.2496</td>\n",
       "      <td>point, find, study, risk, case, time, post, nu...</td>\n",
       "      <td>here is a cached version of the daily mail con...</td>\n",
       "    </tr>\n",
       "    <tr>\n",
       "      <th>5</th>\n",
       "      <td>5.0</td>\n",
       "      <td>0.2124</td>\n",
       "      <td>man, woman, issue, problem, care, feminist, ge...</td>\n",
       "      <td>cmon guys get real the first paragraph of this...</td>\n",
       "    </tr>\n",
       "    <tr>\n",
       "      <th>6</th>\n",
       "      <td>1.0</td>\n",
       "      <td>0.1845</td>\n",
       "      <td>vaccine, give, male, boy, girl, hpv_vaccine, v...</td>\n",
       "      <td>did someone in that article really fucking say...</td>\n",
       "    </tr>\n",
       "    <tr>\n",
       "      <th>7</th>\n",
       "      <td>0.0</td>\n",
       "      <td>0.1770</td>\n",
       "      <td>people, make, thing, good, sex, lot, time, tal...</td>\n",
       "      <td>thats cool ill stop fucking then no diseases f...</td>\n",
       "    </tr>\n",
       "    <tr>\n",
       "      <th>8</th>\n",
       "      <td>5.0</td>\n",
       "      <td>0.1830</td>\n",
       "      <td>man, woman, issue, problem, care, feminist, ge...</td>\n",
       "      <td>the same brits that killed off alfie</td>\n",
       "    </tr>\n",
       "    <tr>\n",
       "      <th>9</th>\n",
       "      <td>5.0</td>\n",
       "      <td>0.2479</td>\n",
       "      <td>man, woman, issue, problem, care, feminist, ge...</td>\n",
       "      <td>i think a lot of the time things like this are...</td>\n",
       "    </tr>\n",
       "  </tbody>\n",
       "</table>\n",
       "</div>"
      ],
      "text/plain": [
       "   Dominant_Topic  Perc_Contribution  \\\n",
       "0             3.0             0.1832   \n",
       "1             1.0             0.2475   \n",
       "2             2.0             0.1795   \n",
       "3             3.0             0.1845   \n",
       "4             2.0             0.2496   \n",
       "5             5.0             0.2124   \n",
       "6             1.0             0.1845   \n",
       "7             0.0             0.1770   \n",
       "8             5.0             0.1830   \n",
       "9             5.0             0.2479   \n",
       "\n",
       "                                      Topic_Keywords  \\\n",
       "0  doctor, pay, free, cost, cover, money, work, s...   \n",
       "1  vaccine, give, male, boy, girl, hpv_vaccine, v...   \n",
       "2  point, find, study, risk, case, time, post, nu...   \n",
       "3  doctor, pay, free, cost, cover, money, work, s...   \n",
       "4  point, find, study, risk, case, time, post, nu...   \n",
       "5  man, woman, issue, problem, care, feminist, ge...   \n",
       "6  vaccine, give, male, boy, girl, hpv_vaccine, v...   \n",
       "7  people, make, thing, good, sex, lot, time, tal...   \n",
       "8  man, woman, issue, problem, care, feminist, ge...   \n",
       "9  man, woman, issue, problem, care, feminist, ge...   \n",
       "\n",
       "                                                   0  \n",
       "0  we should all think about how fucked up this i...  \n",
       "1  mystery disease after gardisil vaccine given t...  \n",
       "2  its in uk why am i not surprised men need to r...  \n",
       "3  socialized medicine ftl how do you think males...  \n",
       "4  here is a cached version of the daily mail con...  \n",
       "5  cmon guys get real the first paragraph of this...  \n",
       "6  did someone in that article really fucking say...  \n",
       "7  thats cool ill stop fucking then no diseases f...  \n",
       "8              the same brits that killed off alfie   \n",
       "9  i think a lot of the time things like this are...  "
      ]
     },
     "execution_count": 32,
     "metadata": {},
     "output_type": "execute_result"
    }
   ],
   "source": [
    "def format_topics_sentences(ldamodel=lda_model, corpus=corpus, texts=data):\n",
    "    # Init output\n",
    "    sent_topics_df = pd.DataFrame()\n",
    "\n",
    "    # Get main topic in each document\n",
    "    for i, row in enumerate(ldamodel[corpus]):\n",
    "        row = sorted(row, key=lambda x: (x[1]), reverse=True)\n",
    "        # Get the Dominant topic, Perc Contribution and Keywords for each document\n",
    "        for j, (topic_num, prop_topic) in enumerate(row):\n",
    "            if j == 0:  # => dominant topic\n",
    "                wp = ldamodel.show_topic(topic_num)\n",
    "                topic_keywords = \", \".join([word for word, prop in wp])\n",
    "                sent_topics_df = sent_topics_df.append(pd.Series([int(topic_num), round(prop_topic,4), topic_keywords]), ignore_index=True)\n",
    "            else:\n",
    "                break\n",
    "    sent_topics_df.columns = ['Dominant_Topic', 'Perc_Contribution', 'Topic_Keywords']\n",
    "\n",
    "    # Add original text to the end of the output\n",
    "    contents = pd.Series(texts)\n",
    "    sent_topics_df = pd.concat([sent_topics_df, contents], axis=1)\n",
    "    return(sent_topics_df)\n",
    "\n",
    "\n",
    "df_topic_sents_keywords = format_topics_sentences(ldamodel=optimal_model, corpus=corpus, texts=data)\n",
    "df_topic_sents_keywords.head(10)"
   ]
  },
  {
   "cell_type": "code",
   "execution_count": 33,
   "metadata": {
    "collapsed": true
   },
   "outputs": [],
   "source": [
    "# saving the results of the Topic Model for accessing orignal comments when doing topics labelling \n",
    "df_topic_sents_keywords.to_excel(\"Reddit_6topics.xlsx\")"
   ]
  },
  {
   "cell_type": "code",
   "execution_count": 3,
   "metadata": {},
   "outputs": [
    {
     "data": {
      "text/html": [
       "<div>\n",
       "<style scoped>\n",
       "    .dataframe tbody tr th:only-of-type {\n",
       "        vertical-align: middle;\n",
       "    }\n",
       "\n",
       "    .dataframe tbody tr th {\n",
       "        vertical-align: top;\n",
       "    }\n",
       "\n",
       "    .dataframe thead th {\n",
       "        text-align: right;\n",
       "    }\n",
       "</style>\n",
       "<table border=\"1\" class=\"dataframe\">\n",
       "  <thead>\n",
       "    <tr style=\"text-align: right;\">\n",
       "      <th></th>\n",
       "      <th>Dominant_Topic</th>\n",
       "      <th>Perc_Contribution</th>\n",
       "      <th>Topic_Keywords</th>\n",
       "      <th>Content</th>\n",
       "      <th>Sentiment</th>\n",
       "    </tr>\n",
       "  </thead>\n",
       "  <tbody>\n",
       "    <tr>\n",
       "      <th>0</th>\n",
       "      <td>3</td>\n",
       "      <td>0.1832</td>\n",
       "      <td>doctor, pay, free, cost, cover, money, work, s...</td>\n",
       "      <td>we should all think about how fucked up this i...</td>\n",
       "      <td>-0.050000</td>\n",
       "    </tr>\n",
       "    <tr>\n",
       "      <th>1</th>\n",
       "      <td>1</td>\n",
       "      <td>0.2475</td>\n",
       "      <td>vaccine, give, male, boy, girl, hpv_vaccine, v...</td>\n",
       "      <td>mystery disease after gardisil vaccine given t...</td>\n",
       "      <td>0.046875</td>\n",
       "    </tr>\n",
       "    <tr>\n",
       "      <th>2</th>\n",
       "      <td>2</td>\n",
       "      <td>0.1795</td>\n",
       "      <td>point, find, study, risk, case, time, post, nu...</td>\n",
       "      <td>its in uk why am i not surprised men need to r...</td>\n",
       "      <td>-0.050000</td>\n",
       "    </tr>\n",
       "    <tr>\n",
       "      <th>3</th>\n",
       "      <td>3</td>\n",
       "      <td>0.1845</td>\n",
       "      <td>doctor, pay, free, cost, cover, money, work, s...</td>\n",
       "      <td>socialized medicine ftl how do you think males...</td>\n",
       "      <td>0.000000</td>\n",
       "    </tr>\n",
       "    <tr>\n",
       "      <th>4</th>\n",
       "      <td>2</td>\n",
       "      <td>0.2496</td>\n",
       "      <td>point, find, study, risk, case, time, post, nu...</td>\n",
       "      <td>here is a cached version of the daily mail con...</td>\n",
       "      <td>-0.027143</td>\n",
       "    </tr>\n",
       "  </tbody>\n",
       "</table>\n",
       "</div>"
      ],
      "text/plain": [
       "   Dominant_Topic  Perc_Contribution  \\\n",
       "0               3             0.1832   \n",
       "1               1             0.2475   \n",
       "2               2             0.1795   \n",
       "3               3             0.1845   \n",
       "4               2             0.2496   \n",
       "\n",
       "                                      Topic_Keywords  \\\n",
       "0  doctor, pay, free, cost, cover, money, work, s...   \n",
       "1  vaccine, give, male, boy, girl, hpv_vaccine, v...   \n",
       "2  point, find, study, risk, case, time, post, nu...   \n",
       "3  doctor, pay, free, cost, cover, money, work, s...   \n",
       "4  point, find, study, risk, case, time, post, nu...   \n",
       "\n",
       "                                             Content  Sentiment  \n",
       "0  we should all think about how fucked up this i...  -0.050000  \n",
       "1  mystery disease after gardisil vaccine given t...   0.046875  \n",
       "2  its in uk why am i not surprised men need to r...  -0.050000  \n",
       "3  socialized medicine ftl how do you think males...   0.000000  \n",
       "4  here is a cached version of the daily mail con...  -0.027143  "
      ]
     },
     "execution_count": 3,
     "metadata": {},
     "output_type": "execute_result"
    }
   ],
   "source": [
    "# RQ3 - sentiment analysis \n",
    "from textblob import TextBlob\n",
    "df_topic_sents_keywords['Sentiment'] = df_topic_sents_keywords['Content'].apply(lambda x: TextBlob(x).sentiment[0])\n",
    "df_topic_sents_keywords.head()"
   ]
  },
  {
   "cell_type": "code",
   "execution_count": 4,
   "metadata": {
    "collapsed": true
   },
   "outputs": [],
   "source": [
    "def fun(x):\n",
    "    if x > 0:\n",
    "        return \"postive\"\n",
    "    if x < 0:\n",
    "        return \"negative\"\n",
    "    else:\n",
    "        return \"netural\"\n",
    "\n",
    "df_topic_sents_keywords['Category'] = df_topic_sents_keywords['Sentiment'].apply(lambda x: fun(x))"
   ]
  },
  {
   "cell_type": "code",
   "execution_count": 5,
   "metadata": {},
   "outputs": [
    {
     "data": {
      "text/html": [
       "<div>\n",
       "<style scoped>\n",
       "    .dataframe tbody tr th:only-of-type {\n",
       "        vertical-align: middle;\n",
       "    }\n",
       "\n",
       "    .dataframe tbody tr th {\n",
       "        vertical-align: top;\n",
       "    }\n",
       "\n",
       "    .dataframe thead th {\n",
       "        text-align: right;\n",
       "    }\n",
       "</style>\n",
       "<table border=\"1\" class=\"dataframe\">\n",
       "  <thead>\n",
       "    <tr style=\"text-align: right;\">\n",
       "      <th></th>\n",
       "      <th>Dominant_Topic</th>\n",
       "      <th>Perc_Contribution</th>\n",
       "      <th>Topic_Keywords</th>\n",
       "      <th>Content</th>\n",
       "      <th>Sentiment</th>\n",
       "      <th>Category</th>\n",
       "    </tr>\n",
       "  </thead>\n",
       "  <tbody>\n",
       "    <tr>\n",
       "      <th>0</th>\n",
       "      <td>3</td>\n",
       "      <td>0.1832</td>\n",
       "      <td>doctor, pay, free, cost, cover, money, work, s...</td>\n",
       "      <td>we should all think about how fucked up this i...</td>\n",
       "      <td>-0.050000</td>\n",
       "      <td>negative</td>\n",
       "    </tr>\n",
       "    <tr>\n",
       "      <th>1</th>\n",
       "      <td>1</td>\n",
       "      <td>0.2475</td>\n",
       "      <td>vaccine, give, male, boy, girl, hpv_vaccine, v...</td>\n",
       "      <td>mystery disease after gardisil vaccine given t...</td>\n",
       "      <td>0.046875</td>\n",
       "      <td>postive</td>\n",
       "    </tr>\n",
       "    <tr>\n",
       "      <th>2</th>\n",
       "      <td>2</td>\n",
       "      <td>0.1795</td>\n",
       "      <td>point, find, study, risk, case, time, post, nu...</td>\n",
       "      <td>its in uk why am i not surprised men need to r...</td>\n",
       "      <td>-0.050000</td>\n",
       "      <td>negative</td>\n",
       "    </tr>\n",
       "    <tr>\n",
       "      <th>3</th>\n",
       "      <td>3</td>\n",
       "      <td>0.1845</td>\n",
       "      <td>doctor, pay, free, cost, cover, money, work, s...</td>\n",
       "      <td>socialized medicine ftl how do you think males...</td>\n",
       "      <td>0.000000</td>\n",
       "      <td>netural</td>\n",
       "    </tr>\n",
       "    <tr>\n",
       "      <th>4</th>\n",
       "      <td>2</td>\n",
       "      <td>0.2496</td>\n",
       "      <td>point, find, study, risk, case, time, post, nu...</td>\n",
       "      <td>here is a cached version of the daily mail con...</td>\n",
       "      <td>-0.027143</td>\n",
       "      <td>negative</td>\n",
       "    </tr>\n",
       "    <tr>\n",
       "      <th>5</th>\n",
       "      <td>5</td>\n",
       "      <td>0.2124</td>\n",
       "      <td>man, woman, issue, problem, care, feminist, ge...</td>\n",
       "      <td>cmon guys get real the first paragraph of this...</td>\n",
       "      <td>0.002083</td>\n",
       "      <td>postive</td>\n",
       "    </tr>\n",
       "    <tr>\n",
       "      <th>6</th>\n",
       "      <td>1</td>\n",
       "      <td>0.1845</td>\n",
       "      <td>vaccine, give, male, boy, girl, hpv_vaccine, v...</td>\n",
       "      <td>did someone in that article really fucking say...</td>\n",
       "      <td>-0.300000</td>\n",
       "      <td>negative</td>\n",
       "    </tr>\n",
       "    <tr>\n",
       "      <th>7</th>\n",
       "      <td>0</td>\n",
       "      <td>0.1770</td>\n",
       "      <td>people, make, thing, good, sex, lot, time, tal...</td>\n",
       "      <td>thats cool ill stop fucking then no diseases f...</td>\n",
       "      <td>-0.250000</td>\n",
       "      <td>negative</td>\n",
       "    </tr>\n",
       "    <tr>\n",
       "      <th>8</th>\n",
       "      <td>5</td>\n",
       "      <td>0.1830</td>\n",
       "      <td>man, woman, issue, problem, care, feminist, ge...</td>\n",
       "      <td>the same brits that killed off alfie</td>\n",
       "      <td>-0.100000</td>\n",
       "      <td>negative</td>\n",
       "    </tr>\n",
       "    <tr>\n",
       "      <th>9</th>\n",
       "      <td>5</td>\n",
       "      <td>0.2479</td>\n",
       "      <td>man, woman, issue, problem, care, feminist, ge...</td>\n",
       "      <td>i think a lot of the time things like this are...</td>\n",
       "      <td>0.240625</td>\n",
       "      <td>postive</td>\n",
       "    </tr>\n",
       "  </tbody>\n",
       "</table>\n",
       "</div>"
      ],
      "text/plain": [
       "   Dominant_Topic  Perc_Contribution  \\\n",
       "0               3             0.1832   \n",
       "1               1             0.2475   \n",
       "2               2             0.1795   \n",
       "3               3             0.1845   \n",
       "4               2             0.2496   \n",
       "5               5             0.2124   \n",
       "6               1             0.1845   \n",
       "7               0             0.1770   \n",
       "8               5             0.1830   \n",
       "9               5             0.2479   \n",
       "\n",
       "                                      Topic_Keywords  \\\n",
       "0  doctor, pay, free, cost, cover, money, work, s...   \n",
       "1  vaccine, give, male, boy, girl, hpv_vaccine, v...   \n",
       "2  point, find, study, risk, case, time, post, nu...   \n",
       "3  doctor, pay, free, cost, cover, money, work, s...   \n",
       "4  point, find, study, risk, case, time, post, nu...   \n",
       "5  man, woman, issue, problem, care, feminist, ge...   \n",
       "6  vaccine, give, male, boy, girl, hpv_vaccine, v...   \n",
       "7  people, make, thing, good, sex, lot, time, tal...   \n",
       "8  man, woman, issue, problem, care, feminist, ge...   \n",
       "9  man, woman, issue, problem, care, feminist, ge...   \n",
       "\n",
       "                                             Content  Sentiment  Category  \n",
       "0  we should all think about how fucked up this i...  -0.050000  negative  \n",
       "1  mystery disease after gardisil vaccine given t...   0.046875   postive  \n",
       "2  its in uk why am i not surprised men need to r...  -0.050000  negative  \n",
       "3  socialized medicine ftl how do you think males...   0.000000   netural  \n",
       "4  here is a cached version of the daily mail con...  -0.027143  negative  \n",
       "5  cmon guys get real the first paragraph of this...   0.002083   postive  \n",
       "6  did someone in that article really fucking say...  -0.300000  negative  \n",
       "7  thats cool ill stop fucking then no diseases f...  -0.250000  negative  \n",
       "8              the same brits that killed off alfie   -0.100000  negative  \n",
       "9  i think a lot of the time things like this are...   0.240625   postive  "
      ]
     },
     "execution_count": 5,
     "metadata": {},
     "output_type": "execute_result"
    }
   ],
   "source": [
    "df_topic_sents_keywords.head(10)"
   ]
  },
  {
   "cell_type": "code",
   "execution_count": 6,
   "metadata": {},
   "outputs": [
    {
     "data": {
      "text/plain": [
       "postive     7721\n",
       "negative    3328\n",
       "netural     2996\n",
       "Name: Category, dtype: int64"
      ]
     },
     "execution_count": 6,
     "metadata": {},
     "output_type": "execute_result"
    }
   ],
   "source": [
    "df_topic_sents_keywords['Category'].value_counts()"
   ]
  },
  {
   "cell_type": "code",
   "execution_count": 7,
   "metadata": {},
   "outputs": [
    {
     "name": "stderr",
     "output_type": "stream",
     "text": [
      "/anaconda3/lib/python3.7/site-packages/ipykernel_launcher.py:1: FutureWarning: Method .as_matrix will be removed in a future version. Use .values instead.\n",
      "  \"\"\"Entry point for launching an IPython kernel.\n"
     ]
    },
    {
     "data": {
      "text/plain": [
       "array([7721, 3328, 2996])"
      ]
     },
     "execution_count": 7,
     "metadata": {},
     "output_type": "execute_result"
    }
   ],
   "source": [
    "df_topic_sents_keywords['Category'].value_counts().as_matrix()"
   ]
  },
  {
   "cell_type": "code",
   "execution_count": 8,
   "metadata": {},
   "outputs": [
    {
     "data": {
      "text/plain": [
       "0    3204\n",
       "1    2490\n",
       "4    2335\n",
       "3    2228\n",
       "2    1980\n",
       "5    1808\n",
       "Name: Dominant_Topic, dtype: int64"
      ]
     },
     "execution_count": 8,
     "metadata": {},
     "output_type": "execute_result"
    }
   ],
   "source": [
    "df_topic_sents_keywords['Dominant_Topic'].value_counts()"
   ]
  },
  {
   "cell_type": "code",
   "execution_count": 9,
   "metadata": {},
   "outputs": [
    {
     "name": "stderr",
     "output_type": "stream",
     "text": [
      "/anaconda3/lib/python3.7/site-packages/ipykernel_launcher.py:3: FutureWarning: Method .as_matrix will be removed in a future version. Use .values instead.\n",
      "  This is separate from the ipykernel package so we can avoid doing imports until\n"
     ]
    }
   ],
   "source": [
    "# draw the sentiment distribution plot\n",
    "x=np.arange(14035)\n",
    "y=df_topic_sents_keywords['Sentiment'].as_matrix(columns=None)"
   ]
  },
  {
   "cell_type": "code",
   "execution_count": 13,
   "metadata": {},
   "outputs": [
    {
     "name": "stderr",
     "output_type": "stream",
     "text": [
      "/anaconda3/lib/python3.7/site-packages/ipykernel_launcher.py:1: FutureWarning: Method .as_matrix will be removed in a future version. Use .values instead.\n",
      "  \"\"\"Entry point for launching an IPython kernel.\n"
     ]
    },
    {
     "data": {
      "text/plain": [
       "([<matplotlib.patches.Wedge at 0x1a1ed60668>,\n",
       "  <matplotlib.patches.Wedge at 0x1a1ed5ecf8>,\n",
       "  <matplotlib.patches.Wedge at 0x1a1ed5e320>],\n",
       " [Text(-1.0866,-0.171166,'positive'),\n",
       "  Text(0.957914,-0.540741,'negative'),\n",
       "  Text(0.683211,0.862103,'netural')],\n",
       " [Text(-0.592692,-0.0933635,'55.0%'),\n",
       "  Text(0.522499,-0.29495,'23.7%'),\n",
       "  Text(0.372661,0.470238,'21.3%')])"
      ]
     },
     "execution_count": 13,
     "metadata": {},
     "output_type": "execute_result"
    },
    {
     "data": {
      "image/png": "[encoded data removed]",
      "text/plain": [
       "<Figure size 432x288 with 1 Axes>"
      ]
     },
     "metadata": {},
     "output_type": "display_data"
    }
   ],
   "source": [
    "numbers = list(df_topic_sents_keywords['Category'].value_counts().as_matrix())\n",
    "sentiment=['positive','negative','netural']\n",
    "colors = ['lightyellow', 'pink', 'lightskyblue']\n",
    "plt.pie(numbers,labels=sentiment,explode=(0,0,0),autopct='%1.1f%%', colors=colors, startangle=90)"
   ]
  }
 ],
 "metadata": {
  "kernelspec": {
   "display_name": "Python 3",
   "language": "python",
   "name": "python3"
  },
  "language_info": {
   "codemirror_mode": {
    "name": "ipython",
    "version": 3
   },
   "file_extension": ".py",
   "mimetype": "text/x-python",
   "name": "python",
   "nbconvert_exporter": "python",
   "pygments_lexer": "ipython3",
   "version": "3.6.3"
  }
 },
 "nbformat": 4,
 "nbformat_minor": 2
}
